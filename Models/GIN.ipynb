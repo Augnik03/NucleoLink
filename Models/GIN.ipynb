{
 "cells": [
  {
   "cell_type": "code",
   "execution_count": 13,
   "id": "0f1b2d4e",
   "metadata": {},
   "outputs": [],
   "source": [
    "import torch\n",
    "import torch.nn as nn\n",
    "import torch.nn.functional as F\n",
    "from torch_geometric.nn import GINConv, global_mean_pool\n",
    "from torch_geometric.data import Data, DataLoader\n",
    "from rdkit import Chem\n",
    "import pandas as pd\n",
    "import numpy as np\n",
    "from sklearn.metrics import roc_auc_score\n",
    "import matplotlib.pyplot as plt"
   ]
  },
  {
   "cell_type": "code",
   "execution_count": 14,
   "id": "ea87f464",
   "metadata": {},
   "outputs": [],
   "source": [
    "# 1. Graph Data Preparation\n",
    "def atom_features(atom):\n",
    "    return torch.tensor([\n",
    "        atom.GetAtomicNum(),\n",
    "        atom.GetDegree(),\n",
    "        atom.GetImplicitValence(),\n",
    "        atom.GetFormalCharge(),\n",
    "        int(atom.GetIsAromatic())\n",
    "    ], dtype=torch.float)\n",
    "\n",
    "def smiles_to_graph(smiles):\n",
    "    mol = Chem.MolFromSmiles(smiles)\n",
    "    if not mol:\n",
    "        return None\n",
    "    \n",
    "    # Node features\n",
    "    x = torch.stack([atom_features(atom) for atom in mol.GetAtoms()])\n",
    "    \n",
    "    # Edge indices\n",
    "    edge_index = []\n",
    "    for bond in mol.GetBonds():\n",
    "        i, j = bond.GetBeginAtomIdx(), bond.GetEndAtomIdx()\n",
    "        edge_index.extend([[i, j], [j, i]])\n",
    "    \n",
    "    return Data(\n",
    "        x=x,\n",
    "        edge_index=torch.tensor(edge_index).t().contiguous() if edge_index else torch.empty((2, 0), dtype=torch.long)\n",
    "    )"
   ]
  },
  {
   "cell_type": "code",
   "execution_count": 15,
   "id": "14ed6608",
   "metadata": {},
   "outputs": [],
   "source": [
    "# 2. GIN Model\n",
    "class GIN(torch.nn.Module):\n",
    "    def __init__(self, hidden_dim=64):\n",
    "        super().__init__()\n",
    "        self.conv1 = GINConv(nn.Sequential(\n",
    "            nn.Linear(5, hidden_dim),\n",
    "            nn.ReLU(),\n",
    "            nn.Linear(hidden_dim, hidden_dim))\n",
    "        )\n",
    "        self.conv2 = GINConv(nn.Sequential(\n",
    "            nn.Linear(hidden_dim, hidden_dim),\n",
    "            nn.ReLU(),\n",
    "            nn.Linear(hidden_dim, hidden_dim))\n",
    "        )\n",
    "        self.classifier = nn.Linear(hidden_dim, 2)\n",
    "    \n",
    "    def forward(self, x, edge_index, batch):\n",
    "        x = self.conv1(x, edge_index).relu()\n",
    "        x = self.conv2(x, edge_index).relu()\n",
    "        x = global_mean_pool(x, batch)\n",
    "        return self.classifier(x)"
   ]
  },
  {
   "cell_type": "code",
   "execution_count": 16,
   "id": "d8dc653f",
   "metadata": {},
   "outputs": [
    {
     "name": "stderr",
     "output_type": "stream",
     "text": [
      "[01:14:08] WARNING: not removing hydrogen atom without neighbors\n",
      "[01:14:10] Explicit valence for atom # 3 Al, 6, is greater than permitted\n",
      "[01:14:10] Explicit valence for atom # 4 Al, 6, is greater than permitted\n",
      "[01:14:12] Explicit valence for atom # 4 Al, 6, is greater than permitted\n",
      "[01:14:13] Explicit valence for atom # 9 Al, 6, is greater than permitted\n",
      "[01:14:13] Explicit valence for atom # 5 Al, 6, is greater than permitted\n",
      "[01:14:13] Explicit valence for atom # 16 Al, 6, is greater than permitted\n",
      "[01:14:15] Explicit valence for atom # 20 Al, 6, is greater than permitted\n"
     ]
    }
   ],
   "source": [
    "# 3. Dataset Preparation\n",
    "df = pd.read_csv(\"tox21.csv\")\n",
    "target = \"NR-AR\"  # Change target as needed\n",
    "\n",
    "graphs = []\n",
    "for _, row in df.iterrows():\n",
    "    if not pd.isna(row[target]) and row[target] != -1:\n",
    "        g = smiles_to_graph(row['smiles'])\n",
    "        if g is not None:\n",
    "            g.y = torch.tensor([int(row[target])], dtype=torch.long)\n",
    "            graphs.append(g)\n"
   ]
  },
  {
   "cell_type": "code",
   "execution_count": 17,
   "id": "924fd6d7",
   "metadata": {},
   "outputs": [
    {
     "name": "stderr",
     "output_type": "stream",
     "text": [
      "c:\\Project\\Models\\venv\\Lib\\site-packages\\torch_geometric\\deprecation.py:26: UserWarning: 'data.DataLoader' is deprecated, use 'loader.DataLoader' instead\n",
      "  warnings.warn(out)\n"
     ]
    }
   ],
   "source": [
    "# 4. Training Setup\n",
    "train_size = int(0.8 * len(graphs))\n",
    "train_dataset = graphs[:train_size]\n",
    "test_dataset = graphs[train_size:]\n",
    "\n",
    "train_loader = DataLoader(train_dataset, batch_size=32, shuffle=True)\n",
    "test_loader = DataLoader(test_dataset, batch_size=32)\n",
    "\n",
    "device = torch.device(\"cuda\" if torch.cuda.is_available() else \"cpu\")\n",
    "model = GIN().to(device)\n",
    "optimizer = torch.optim.Adam(model.parameters(), lr=0.001)\n",
    "criterion = nn.CrossEntropyLoss()"
   ]
  },
  {
   "cell_type": "code",
   "execution_count": 18,
   "id": "ffec6060",
   "metadata": {},
   "outputs": [
    {
     "name": "stdout",
     "output_type": "stream",
     "text": [
      "Epoch 01 | Loss: 0.1909 | AUC: 0.6897\n",
      "Epoch 02 | Loss: 0.1633 | AUC: 0.7456\n",
      "Epoch 03 | Loss: 0.1544 | AUC: 0.7603\n",
      "Epoch 04 | Loss: 0.1430 | AUC: 0.7705\n",
      "Epoch 05 | Loss: 0.1417 | AUC: 0.7756\n",
      "Epoch 06 | Loss: 0.1378 | AUC: 0.7723\n",
      "Epoch 07 | Loss: 0.1376 | AUC: 0.7818\n",
      "Epoch 08 | Loss: 0.1362 | AUC: 0.7817\n",
      "Epoch 09 | Loss: 0.1341 | AUC: 0.7738\n",
      "Epoch 10 | Loss: 0.1356 | AUC: 0.7723\n",
      "Epoch 11 | Loss: 0.1321 | AUC: 0.7727\n",
      "Epoch 12 | Loss: 0.1316 | AUC: 0.7691\n",
      "Epoch 13 | Loss: 0.1297 | AUC: 0.7694\n",
      "Epoch 14 | Loss: 0.1307 | AUC: 0.7736\n",
      "Epoch 15 | Loss: 0.1280 | AUC: 0.7687\n",
      "Epoch 16 | Loss: 0.1366 | AUC: 0.7693\n",
      "Epoch 17 | Loss: 0.1301 | AUC: 0.7758\n",
      "Epoch 18 | Loss: 0.1297 | AUC: 0.7579\n",
      "Epoch 19 | Loss: 0.1291 | AUC: 0.7777\n",
      "Epoch 20 | Loss: 0.1274 | AUC: 0.7731\n"
     ]
    }
   ],
   "source": [
    "# 5. Training Loop\n",
    "for epoch in range(1, 21):\n",
    "    model.train()\n",
    "    total_loss = 0\n",
    "    for batch in train_loader:\n",
    "        batch = batch.to(device)\n",
    "        optimizer.zero_grad()\n",
    "        out = model(batch.x, batch.edge_index, batch.batch)\n",
    "        loss = criterion(out, batch.y.squeeze())\n",
    "        loss.backward()\n",
    "        optimizer.step()\n",
    "        total_loss += loss.item()\n",
    "    \n",
    "    # Evaluation\n",
    "    model.eval()\n",
    "    y_true, y_pred = [], []\n",
    "    with torch.no_grad():\n",
    "        for batch in test_loader:\n",
    "            batch = batch.to(device)\n",
    "            out = model(batch.x, batch.edge_index, batch.batch)\n",
    "            y_pred.extend(F.softmax(out, dim=1)[:, 1].cpu().numpy())\n",
    "            y_true.extend(batch.y.cpu().numpy())\n",
    "    \n",
    "    auc = roc_auc_score(y_true, y_pred)\n",
    "    print(f\"Epoch {epoch:02d} | Loss: {total_loss/len(train_loader):.4f} | AUC: {auc:.4f}\")\n"
   ]
  },
  {
   "cell_type": "code",
   "execution_count": 21,
   "id": "00dac208",
   "metadata": {},
   "outputs": [
    {
     "ename": "NameError",
     "evalue": "name 'train_losses' is not defined",
     "output_type": "error",
     "traceback": [
      "\u001b[31m---------------------------------------------------------------------------\u001b[39m",
      "\u001b[31mNameError\u001b[39m                                 Traceback (most recent call last)",
      "\u001b[36mCell\u001b[39m\u001b[36m \u001b[39m\u001b[32mIn[21]\u001b[39m\u001b[32m, line 5\u001b[39m\n\u001b[32m      3\u001b[39m plt.figure(figsize=(\u001b[32m12\u001b[39m, \u001b[32m4\u001b[39m))\n\u001b[32m      4\u001b[39m plt.subplot(\u001b[32m121\u001b[39m)\n\u001b[32m----> \u001b[39m\u001b[32m5\u001b[39m plt.plot(\u001b[43mtrain_losses\u001b[49m, label=\u001b[33m\"\u001b[39m\u001b[33mTraining Loss\u001b[39m\u001b[33m\"\u001b[39m)\n\u001b[32m      6\u001b[39m plt.subplot(\u001b[32m122\u001b[39m)\n\u001b[32m      7\u001b[39m plt.plot(test_aucs, label=\u001b[33m\"\u001b[39m\u001b[33mTest AUC\u001b[39m\u001b[33m\"\u001b[39m)\n",
      "\u001b[31mNameError\u001b[39m: name 'train_losses' is not defined"
     ]
    },
    {
     "data": {
      "image/png": "[encoded data removed]",
      "text/plain": [
       "<Figure size 1200x400 with 1 Axes>"
      ]
     },
     "metadata": {},
     "output_type": "display_data"
    }
   ],
   "source": [
    "# 6. Save Model\n",
    "torch.save(model.state_dict(), \"gin_tox21.pt\")\n",
    "plt.figure(figsize=(12, 4))\n",
    "plt.subplot(121)\n",
    "plt.plot(train_losses, label=\"Training Loss\")\n",
    "plt.subplot(122)\n",
    "plt.plot(test_aucs, label=\"Test AUC\")\n",
    "plt.savefig(\"gin_performance.png\")"
   ]
  }
 ],
 "metadata": {
  "kernelspec": {
   "display_name": "venv",
   "language": "python",
   "name": "python3"
  },
  "language_info": {
   "codemirror_mode": {
    "name": "ipython",
    "version": 3
   },
   "file_extension": ".py",
   "mimetype": "text/x-python",
   "name": "python",
   "nbconvert_exporter": "python",
   "pygments_lexer": "ipython3",
   "version": "3.12.8"
  }
 },
 "nbformat": 4,
 "nbformat_minor": 5
}
