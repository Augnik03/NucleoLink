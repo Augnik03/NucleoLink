{
 "cells": [
  {
   "cell_type": "code",
   "execution_count": 47,
   "id": "d712ae23",
   "metadata": {},
   "outputs": [],
   "source": [
    "import torch\n",
    "from torch_geometric.nn import GCNConv, global_mean_pool\n",
    "from torch_geometric.loader import DataLoader\n",
    "from rdkit import Chem\n",
    "import pandas as pd\n",
    "import numpy as np\n",
    "from tqdm import tqdm\n",
    "from sklearn.metrics import roc_auc_score, roc_curve, confusion_matrix\n",
    "import matplotlib.pyplot as plt\n",
    "import seaborn as sns\n",
    "import pickle\n",
    "import os\n",
    "import warnings\n",
    "from torch.utils.data import Dataset, random_split\n",
    "\n",
    "warnings.filterwarnings(\"ignore\")\n"
   ]
  },
  {
   "cell_type": "code",
   "execution_count": 48,
   "id": "b335a36f",
   "metadata": {},
   "outputs": [],
   "source": [
    "# Create directories\n",
    "os.makedirs('saved_models', exist_ok=True)\n",
    "os.makedirs('plots', exist_ok=True)\n"
   ]
  },
  {
   "cell_type": "code",
   "execution_count": 49,
   "id": "b9fdbc35",
   "metadata": {},
   "outputs": [],
   "source": [
    "# 1. Atom & Bond Features\n",
    "\n",
    "ATOM_LIST = [1, 6, 7, 8, 9, 15, 16, 17, 35, 53]\n",
    "\n",
    "def atom_features(atom):\n",
    "    features = [\n",
    "        ATOM_LIST.index(atom.GetAtomicNum()) if atom.GetAtomicNum() in ATOM_LIST else 0,\n",
    "        atom.GetDegree(),\n",
    "        atom.GetImplicitValence(),\n",
    "        atom.GetFormalCharge(),\n",
    "        int(atom.GetIsAromatic())\n",
    "    ]\n",
    "    return torch.tensor(features, dtype=torch.float)\n",
    "\n",
    "def bond_features(bond):\n",
    "    features = [\n",
    "        int(bond.GetBondTypeAsDouble()),\n",
    "        int(bond.GetIsConjugated()),\n",
    "        int(bond.IsInRing())\n",
    "    ]\n",
    "    return torch.tensor(features, dtype=torch.float)"
   ]
  },
  {
   "cell_type": "code",
   "execution_count": 52,
   "id": "e6035730",
   "metadata": {},
   "outputs": [],
   "source": [
    "# 2. SMILES to Graph\n",
    "\n",
    "from torch_geometric.data import Data\n",
    "\n",
    "def smiles_to_graph(smiles):\n",
    "    mol = Chem.MolFromSmiles(smiles)\n",
    "    if mol is None:\n",
    "        return None\n",
    "\n",
    "    # Atom features\n",
    "    atoms = mol.GetAtoms()\n",
    "    if not atoms:\n",
    "        return None\n",
    "    x = torch.stack([atom_features(atom) for atom in atoms])\n",
    "\n",
    "    # Edge features\n",
    "    edge_index, edge_attr = [], []\n",
    "    for bond in mol.GetBonds():\n",
    "        i, j = bond.GetBeginAtomIdx(), bond.GetEndAtomIdx()\n",
    "        edge_index.extend([[i, j], [j, i]])\n",
    "        bf = bond_features(bond)\n",
    "        edge_attr.extend([bf, bf])\n",
    "\n",
    "    edge_index = torch.tensor(edge_index, dtype=torch.long).t().contiguous() if edge_index else torch.empty((2, 0), dtype=torch.long)\n",
    "    edge_attr = torch.stack(edge_attr) if edge_attr else torch.empty((0, 3), dtype=torch.float)\n",
    "\n",
    "    return Data(x=x, edge_index=edge_index, edge_attr=edge_attr)"
   ]
  },
  {
   "cell_type": "code",
   "execution_count": 53,
   "id": "8fc0ce97",
   "metadata": {},
   "outputs": [],
   "source": [
    "# 3. Custom Dataset\n",
    "\n",
    "class Tox21Dataset(Dataset):\n",
    "    def __init__(self, dataframe, target):\n",
    "        self.graphs = []\n",
    "        for _, row in tqdm(dataframe.iterrows(), total=len(dataframe), desc=\"Processing\"):\n",
    "            if pd.isna(row[target]) or row[target] == -1:\n",
    "                continue\n",
    "            g = smiles_to_graph(row['smiles'])\n",
    "            if g is not None:\n",
    "                g.y = torch.tensor([int(row[target])], dtype=torch.long)\n",
    "                self.graphs.append(g)\n",
    "\n",
    "    def __len__(self):\n",
    "        return len(self.graphs)\n",
    "\n",
    "    def __getitem__(self, idx):\n",
    "        return self.graphs[idx]\n",
    "        return self.graphs[idx]"
   ]
  },
  {
   "cell_type": "code",
   "execution_count": 54,
   "id": "362f1b76",
   "metadata": {},
   "outputs": [],
   "source": [
    "# 4. GCN Model\n",
    "\n",
    "class GCN(torch.nn.Module):\n",
    "    def __init__(self, in_channels, hidden_channels):\n",
    "        super().__init__()\n",
    "        self.conv1 = GCNConv(in_channels, hidden_channels)\n",
    "        self.conv2 = GCNConv(hidden_channels, hidden_channels)\n",
    "        self.lin = torch.nn.Linear(hidden_channels, 2)\n",
    "\n",
    "    def forward(self, x, edge_index, batch):\n",
    "        x = self.conv1(x, edge_index).relu()\n",
    "        x = self.conv2(x, edge_index).relu()\n",
    "        x = global_mean_pool(x, batch)\n",
    "        return self.lin(x)"
   ]
  },
  {
   "cell_type": "code",
   "execution_count": 55,
   "id": "4270ff57",
   "metadata": {},
   "outputs": [
    {
     "name": "stderr",
     "output_type": "stream",
     "text": [
      "Processing:   0%|          | 0/7831 [00:00<?, ?it/s][23:57:58] WARNING: not removing hydrogen atom without neighbors\n",
      "Processing:  29%|██▊       | 2246/7831 [00:02<00:05, 1101.44it/s][23:58:00] Explicit valence for atom # 4 Al, 6, is greater than permitted\n",
      "Processing:  45%|████▌     | 3524/7831 [00:03<00:04, 1047.67it/s][23:58:01] Explicit valence for atom # 4 Al, 6, is greater than permitted\n",
      "Processing:  57%|█████▋    | 4502/7831 [00:04<00:03, 968.54it/s] [23:58:02] Explicit valence for atom # 9 Al, 6, is greater than permitted\n",
      "Processing:  59%|█████▉    | 4602/7831 [00:04<00:03, 976.69it/s][23:58:02] Explicit valence for atom # 5 Al, 6, is greater than permitted\n",
      "Processing:  70%|██████▉   | 5479/7831 [00:05<00:02, 1098.58it/s][23:58:03] Explicit valence for atom # 16 Al, 6, is greater than permitted\n",
      "Processing:  85%|████████▍ | 6622/7831 [00:06<00:01, 1004.30it/s][23:58:04] Explicit valence for atom # 20 Al, 6, is greater than permitted\n",
      "Processing: 100%|██████████| 7831/7831 [00:07<00:00, 1006.97it/s]"
     ]
    },
    {
     "name": "stdout",
     "output_type": "stream",
     "text": [
      "\n",
      "Loaded 5804 valid molecules for target 'SR-MMP'\n"
     ]
    },
    {
     "name": "stderr",
     "output_type": "stream",
     "text": [
      "\n"
     ]
    }
   ],
   "source": [
    "# 5. Load & Prepare Data\n",
    "\n",
    "df = pd.read_csv(\"tox21.csv\")\n",
    "target = \"SR-MMP\"  # Change to any target\n",
    "df = df[df[\"smiles\"].notnull()]\n",
    "\n",
    "dataset = Tox21Dataset(df, target)\n",
    "print(f\"\\nLoaded {len(dataset)} valid molecules for target '{target}'\")\n",
    "\n",
    "train_size = int(0.8 * len(dataset))\n",
    "val_size = len(dataset) - train_size\n",
    "train_dataset, val_dataset = random_split(dataset, [train_size, val_size])\n",
    "\n",
    "train_loader = DataLoader(train_dataset, batch_size=32, shuffle=True)\n",
    "val_loader = DataLoader(val_dataset, batch_size=32)\n"
   ]
  },
  {
   "cell_type": "code",
   "execution_count": 56,
   "id": "28f1d026",
   "metadata": {},
   "outputs": [
    {
     "name": "stdout",
     "output_type": "stream",
     "text": [
      "\n",
      "Starting training...\n",
      "Epoch 01 | Loss: 0.4494 | AUC: 0.6885\n",
      "Epoch 02 | Loss: 0.4168 | AUC: 0.7006\n",
      "Epoch 03 | Loss: 0.4171 | AUC: 0.7094\n",
      "Epoch 04 | Loss: 0.4150 | AUC: 0.7125\n",
      "Epoch 05 | Loss: 0.4086 | AUC: 0.7239\n",
      "Epoch 06 | Loss: 0.4076 | AUC: 0.7235\n",
      "Epoch 07 | Loss: 0.4066 | AUC: 0.7370\n",
      "Epoch 08 | Loss: 0.4036 | AUC: 0.7449\n",
      "Epoch 09 | Loss: 0.3983 | AUC: 0.7399\n",
      "Epoch 10 | Loss: 0.3995 | AUC: 0.7541\n",
      "Epoch 11 | Loss: 0.4028 | AUC: 0.7496\n",
      "Epoch 12 | Loss: 0.3920 | AUC: 0.7563\n",
      "Epoch 13 | Loss: 0.3935 | AUC: 0.7656\n",
      "Epoch 14 | Loss: 0.3899 | AUC: 0.7649\n",
      "Epoch 15 | Loss: 0.3913 | AUC: 0.7694\n",
      "Epoch 16 | Loss: 0.3903 | AUC: 0.7661\n",
      "Epoch 17 | Loss: 0.3862 | AUC: 0.7738\n",
      "Epoch 18 | Loss: 0.3862 | AUC: 0.7746\n",
      "Epoch 19 | Loss: 0.3841 | AUC: 0.7798\n",
      "Epoch 20 | Loss: 0.3843 | AUC: 0.7704\n",
      "\n",
      "Training complete!\n"
     ]
    }
   ],
   "source": [
    "# 6. Train the Model\n",
    "\n",
    "device = torch.device(\"cuda\" if torch.cuda.is_available() else \"cpu\")\n",
    "model = GCN(in_channels=5, hidden_channels=64).to(device)\n",
    "optimizer = torch.optim.Adam(model.parameters(), lr=0.001, weight_decay=5e-4)\n",
    "criterion = torch.nn.CrossEntropyLoss()\n",
    "\n",
    "train_losses = []\n",
    "val_aucs = []\n",
    "\n",
    "print(\"\\nStarting training...\")\n",
    "for epoch in range(1, 21):\n",
    "    # Training\n",
    "    model.train()\n",
    "    total_loss = 0\n",
    "    for batch in train_loader:\n",
    "        batch = batch.to(device)\n",
    "        optimizer.zero_grad()\n",
    "        out = model(batch.x, batch.edge_index, batch.batch)\n",
    "        loss = criterion(out, batch.y)\n",
    "        loss.backward()\n",
    "        optimizer.step()\n",
    "        total_loss += loss.item()\n",
    "    train_losses.append(total_loss / len(train_loader))\n",
    "\n",
    "    # Validation\n",
    "    model.eval()\n",
    "    y_true, y_pred = [], []\n",
    "    with torch.no_grad():\n",
    "        for batch in val_loader:\n",
    "            batch = batch.to(device)\n",
    "            out = model(batch.x, batch.edge_index, batch.batch)\n",
    "            probs = torch.softmax(out, dim=1)[:, 1]\n",
    "            y_pred.extend(probs.cpu().numpy())\n",
    "            y_true.extend(batch.y.cpu().numpy())\n",
    "    \n",
    "    if len(y_true) > 0 and len(np.unique(y_true)) >= 2:\n",
    "        auc = roc_auc_score(y_true, y_pred)\n",
    "        val_aucs.append(auc)\n",
    "        print(f\"Epoch {epoch:02d} | Loss: {train_losses[-1]:.4f} | AUC: {auc:.4f}\")\n",
    "    else:\n",
    "        print(f\"Epoch {epoch:02d} | Loss: {train_losses[-1]:.4f} | Validation skipped (not enough samples)\")\n",
    "\n",
    "print(\"\\nTraining complete!\")\n"
   ]
  },
  {
   "cell_type": "code",
   "execution_count": 57,
   "id": "6fe3e796",
   "metadata": {},
   "outputs": [],
   "source": [
    "# 7. Visualization\n",
    "# Training Loss Curve\n",
    "if len(train_losses) > 0:\n",
    "    plt.figure(figsize=(10, 5))\n",
    "    plt.plot(train_losses, label='Training Loss')\n",
    "    plt.xlabel('Epoch')\n",
    "    plt.ylabel('Loss')\n",
    "    plt.title('Training Loss')\n",
    "    plt.legend()\n",
    "    plt.savefig('plots/training_loss.png')\n",
    "    plt.close()\n",
    "\n",
    "if len(val_aucs) > 0:\n",
    "    plt.figure(figsize=(10, 5))\n",
    "    plt.plot(val_aucs, label='Validation AUC')\n",
    "    plt.xlabel('Epoch')\n",
    "    plt.ylabel('AUC')\n",
    "    plt.title('Validation AUC')\n",
    "    plt.legend()\n",
    "    plt.savefig('plots/validation_auc.png')\n",
    "    plt.close()\n",
    "\n",
    "# ROC Curve\n",
    "if len(y_true) > 0 and len(np.unique(y_true)) >= 2:\n",
    "    fpr, tpr, _ = roc_curve(y_true, y_pred)\n",
    "    plt.figure(figsize=(8, 8))\n",
    "    plt.plot(fpr, tpr, label=f'AUC = {val_aucs[-1]:.2f}')\n",
    "    plt.plot([0, 1], [0, 1], 'k--')\n",
    "    plt.xlabel('False Positive Rate')\n",
    "    plt.ylabel('True Positive Rate')\n",
    "    plt.title('ROC Curve')\n",
    "    plt.legend()\n",
    "    plt.savefig('plots/roc_curve.png')\n",
    "    plt.close()"
   ]
  },
  {
   "cell_type": "code",
   "execution_count": 58,
   "id": "c9959a56",
   "metadata": {},
   "outputs": [
    {
     "name": "stdout",
     "output_type": "stream",
     "text": [
      "\n",
      "All done! Models and plots saved.\n"
     ]
    }
   ],
   "source": [
    "# 8. Save Model\n",
    "\n",
    "torch.save(model.state_dict(), f\"saved_models/gcn_{target.replace('-', '_')}.pt\")\n",
    "with open(f\"saved_models/gcn_{target.replace('-', '_')}.pkl\", 'wb') as f:\n",
    "    pickle.dump(model, f)\n",
    "\n",
    "print(\"\\nAll done! Models and plots saved.\")"
   ]
  }
 ],
 "metadata": {
  "kernelspec": {
   "display_name": "venv",
   "language": "python",
   "name": "python3"
  },
  "language_info": {
   "codemirror_mode": {
    "name": "ipython",
    "version": 3
   },
   "file_extension": ".py",
   "mimetype": "text/x-python",
   "name": "python",
   "nbconvert_exporter": "python",
   "pygments_lexer": "ipython3",
   "version": "3.12.8"
  }
 },
 "nbformat": 4,
 "nbformat_minor": 5
}
